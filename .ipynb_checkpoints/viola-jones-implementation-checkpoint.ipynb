{
 "cells": [
  {
   "cell_type": "code",
   "execution_count": 1,
   "id": "e90a4b21",
   "metadata": {
    "pycharm": {
     "name": "#%%\n"
    }
   },
   "outputs": [],
   "source": [
    "import numpy as np\n",
    "import Adaboost as ab\n",
    "import Utils as utils\n",
    "from matplotlib import pyplot as plt\n",
    "import cv2"
   ]
  },
  {
   "cell_type": "code",
   "execution_count": 2,
   "id": "30a0d577",
   "metadata": {
    "pycharm": {
     "name": "#%%\n"
    }
   },
   "outputs": [],
   "source": [
    "pos_training_path = 'data/trainset/faces'\n",
    "neg_training_path = 'data/trainset/non-faces'\n",
    "pos_testing_path = 'data/testset/faces'\n",
    "neg_testing_path = 'data/testset/non-faces'\n",
    "\n",
    "num_classifiers = 2\n",
    "min_feature_height = 4\n",
    "max_feature_height = 10\n",
    "min_feature_width = 4\n",
    "max_feature_width = 10"
   ]
  },
  {
   "cell_type": "code",
   "execution_count": 3,
   "id": "c9251fa0",
   "metadata": {
    "pycharm": {
     "name": "#%%\n"
    }
   },
   "outputs": [
    {
     "name": "stdout",
     "output_type": "stream",
     "text": [
      "Loading faces for training..\n",
      "..done. 2429 faces loaded.\n",
      "\n",
      "Loading non faces..\n"
     ]
    },
    {
     "name": "stderr",
     "output_type": "stream",
     "text": [
      "D:\\SoSe-2022\\Computer-Vision\\viola-jones_face_detection\\Utils.py:106: RuntimeWarning: invalid value encountered in true_divide\n",
      "  img_arr /= img_arr.max()\n"
     ]
    },
    {
     "name": "stdout",
     "output_type": "stream",
     "text": [
      "..done. 8548 non faces loaded.\n",
      "\n",
      "Loading faces for testing..\n",
      "..done. 472 faces loaded.\n",
      "\n",
      "Loading test non faces..\n",
      "..done. 19572 non faces loaded.\n",
      "\n"
     ]
    }
   ],
   "source": [
    "print('Loading faces for training..')\n",
    "faces_training = utils.load_images(pos_training_path)\n",
    "#faces_ii_training = list(map(ii.to_integral_image, faces_training))\n",
    "print('..done. ' + str(len(faces_training)) + ' faces loaded.\\n\\nLoading non faces..')\n",
    "non_faces_training = utils.load_images(neg_training_path)\n",
    "#non_faces_ii_training = list(map(ii.to_integral_image, non_faces_training))\n",
    "print('..done. ' + str(len(non_faces_training)) + ' non faces loaded.\\n')\n",
    "\n",
    "print('Loading faces for testing..')\n",
    "faces_testing = utils.load_images(pos_testing_path)\n",
    "#faces_ii_testing = list(map(ii.to_integral_image, faces_testing))\n",
    "print('..done. ' + str(len(faces_testing)) + ' faces loaded.\\n\\nLoading test non faces..')\n",
    "non_faces_testing = utils.load_images(neg_testing_path)\n",
    "#non_faces_ii_testing = list(map(ii.to_integral_image, non_faces_testing))\n",
    "print('..done. ' + str(len(non_faces_testing)) + ' non faces loaded.\\n')"
   ]
  },
  {
   "cell_type": "code",
   "execution_count": null,
   "id": "f75931a9",
   "metadata": {
    "pycharm": {
     "name": "#%%\n"
    }
   },
   "outputs": [
    {
     "name": "stdout",
     "output_type": "stream",
     "text": [
      "generated  22842  features\n"
     ]
    }
   ],
   "source": [
    "classifiers = ab.learn(faces_training, non_faces_training, num_classifiers, min_feature_height, max_feature_height, min_feature_width, max_feature_width)"
   ]
  },
  {
   "cell_type": "code",
   "execution_count": null,
   "id": "4faeea83",
   "metadata": {},
   "outputs": [],
   "source": [
    "classifiers"
   ]
  },
  {
   "cell_type": "code",
   "execution_count": null,
   "id": "53eb554e",
   "metadata": {},
   "outputs": [],
   "source": [
    "plt.imshow(faces_training[7], interpolation='nearest')\n",
    "#plt.show()"
   ]
  },
  {
   "cell_type": "markdown",
   "id": "5427e212",
   "metadata": {},
   "source": [
    "draw the classifier on face"
   ]
  },
  {
   "cell_type": "code",
   "execution_count": null,
   "id": "71abee32",
   "metadata": {},
   "outputs": [],
   "source": [
    "\n",
    "classifiers[0].__dict__.keys()\n",
    "c = classifiers[3]\n",
    "print(c.feature,c.x,c.y,c.width,c.height,c.polarity)"
   ]
  },
  {
   "cell_type": "code",
   "execution_count": null,
   "id": "64a01e39",
   "metadata": {},
   "outputs": [],
   "source": [
    "image = cv2.rectangle(faces_training[7], (c.x,c.y), (c.x+c.width,c.y+c.height), (255, 255, 0), -1)\n",
    "image = cv2.resize(image, (960, 540)) \n",
    "cv2.imshow(\"hi\",image)\n",
    "cv2.waitKey(0)  "
   ]
  },
  {
   "cell_type": "code",
   "execution_count": null,
   "id": "a6737aaf",
   "metadata": {},
   "outputs": [],
   "source": []
  }
 ],
 "metadata": {
  "kernelspec": {
   "display_name": "Python 3 (ipykernel)",
   "language": "python",
   "name": "python3"
  },
  "language_info": {
   "codemirror_mode": {
    "name": "ipython",
    "version": 3
   },
   "file_extension": ".py",
   "mimetype": "text/x-python",
   "name": "python",
   "nbconvert_exporter": "python",
   "pygments_lexer": "ipython3",
   "version": "3.9.12"
  }
 },
 "nbformat": 4,
 "nbformat_minor": 5
}
